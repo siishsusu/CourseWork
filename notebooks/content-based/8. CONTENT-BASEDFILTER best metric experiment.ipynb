{
 "cells": [
  {
   "cell_type": "code",
   "execution_count": 1,
   "metadata": {
    "executionInfo": {
     "elapsed": 7499,
     "status": "ok",
     "timestamp": 1744396200484,
     "user": {
      "displayName": "vladyslava",
      "userId": "10704270163806974636"
     },
     "user_tz": -180
    },
    "id": "BhfCpsSz9VrC"
   },
   "outputs": [],
   "source": [
    "import pandas as pd\n",
    "import numpy as np\n",
    "import matplotlib.pyplot as plt\n",
    "import seaborn as sns\n",
    "import scipy"
   ]
  },
  {
   "cell_type": "markdown",
   "metadata": {
    "id": "QXZVKrZW9zIF"
   },
   "source": [
    "# **Завантаження попередньо підготовлених датасетів**"
   ]
  },
  {
   "cell_type": "code",
   "execution_count": 2,
   "metadata": {
    "colab": {
     "base_uri": "https://localhost:8080/"
    },
    "executionInfo": {
     "elapsed": 34892,
     "status": "ok",
     "timestamp": 1744396235386,
     "user": {
      "displayName": "vladyslava",
      "userId": "10704270163806974636"
     },
     "user_tz": -180
    },
    "id": "l5vJGgNAAgZ_",
    "outputId": "1ce9d9a0-cf4e-4286-cdef-0cf1112ef147"
   },
   "outputs": [],
   "source": [
    "path_users = './data/Normalized_dataset_users.csv'\n",
    "path_features = './data/Normalized_dataset_features.csv'\n",
    "path_user_profiles = './data/User_Profiles.csv'\n",
    "path_user_profiles_KMEANS = './data/User_Profiles_clusterized.csv'\n",
    "path_user_profiles_Hierarchical = './data/User_Profiles_hierarchical_clusterized.csv'"
   ]
  },
  {
   "cell_type": "code",
   "execution_count": 3,
   "metadata": {
    "colab": {
     "base_uri": "https://localhost:8080/"
    },
    "executionInfo": {
     "elapsed": 21330,
     "status": "ok",
     "timestamp": 1744396281569,
     "user": {
      "displayName": "vladyslava",
      "userId": "10704270163806974636"
     },
     "user_tz": -180
    },
    "id": "YSL0dUQT9_2V",
    "outputId": "b4356fb0-fd02-45c3-f333-59b8afa782c7"
   },
   "outputs": [
    {
     "data": {
      "text/plain": [
       "(9711301, 4)"
      ]
     },
     "execution_count": 3,
     "metadata": {},
     "output_type": "execute_result"
    }
   ],
   "source": [
    "df_users = pd.read_csv(path_users, on_bad_lines='skip')\n",
    "df_users.shape"
   ]
  },
  {
   "cell_type": "code",
   "execution_count": 4,
   "metadata": {
    "colab": {
     "base_uri": "https://localhost:8080/"
    },
    "executionInfo": {
     "elapsed": 703,
     "status": "ok",
     "timestamp": 1744396282257,
     "user": {
      "displayName": "vladyslava",
      "userId": "10704270163806974636"
     },
     "user_tz": -180
    },
    "id": "lWuruqjYLQXT",
    "outputId": "3a5f7b9a-0b06-47cd-c12c-ae3c6f767148"
   },
   "outputs": [
    {
     "data": {
      "text/plain": [
       "(50683, 18)"
      ]
     },
     "execution_count": 4,
     "metadata": {},
     "output_type": "execute_result"
    }
   ],
   "source": [
    "df_features = pd.read_csv(path_features, on_bad_lines='skip')\n",
    "df_features.shape"
   ]
  },
  {
   "cell_type": "code",
   "execution_count": 5,
   "metadata": {
    "colab": {
     "base_uri": "https://localhost:8080/"
    },
    "executionInfo": {
     "elapsed": 354,
     "status": "ok",
     "timestamp": 1744396282613,
     "user": {
      "displayName": "vladyslava",
      "userId": "10704270163806974636"
     },
     "user_tz": -180
    },
    "id": "xZyekqv7uaik",
    "outputId": "5425e6cd-2293-4578-8650-945f05a89fab"
   },
   "outputs": [
    {
     "data": {
      "text/plain": [
       "(1000, 12)"
      ]
     },
     "execution_count": 5,
     "metadata": {},
     "output_type": "execute_result"
    }
   ],
   "source": [
    "df_profiles = pd.read_csv(path_user_profiles, on_bad_lines='skip', index_col='Unnamed: 0')\n",
    "df_profiles.shape"
   ]
  },
  {
   "cell_type": "code",
   "execution_count": 6,
   "metadata": {
    "colab": {
     "base_uri": "https://localhost:8080/",
     "height": 101
    },
    "executionInfo": {
     "elapsed": 96,
     "status": "ok",
     "timestamp": 1744396282711,
     "user": {
      "displayName": "vladyslava",
      "userId": "10704270163806974636"
     },
     "user_tz": -180
    },
    "id": "OZTTZXcsARhn",
    "outputId": "9dc46eef-b29a-4717-e218-ab86afc88f34"
   },
   "outputs": [
    {
     "data": {
      "text/html": [
       "<div>\n",
       "<style scoped>\n",
       "    .dataframe tbody tr th:only-of-type {\n",
       "        vertical-align: middle;\n",
       "    }\n",
       "\n",
       "    .dataframe tbody tr th {\n",
       "        vertical-align: top;\n",
       "    }\n",
       "\n",
       "    .dataframe thead th {\n",
       "        text-align: right;\n",
       "    }\n",
       "</style>\n",
       "<table border=\"1\" class=\"dataframe\">\n",
       "  <thead>\n",
       "    <tr style=\"text-align: right;\">\n",
       "      <th></th>\n",
       "      <th>danceability</th>\n",
       "      <th>energy</th>\n",
       "      <th>key</th>\n",
       "      <th>loudness</th>\n",
       "      <th>mode</th>\n",
       "      <th>speechiness</th>\n",
       "      <th>acousticness</th>\n",
       "      <th>instrumentalness</th>\n",
       "      <th>liveness</th>\n",
       "      <th>valence</th>\n",
       "      <th>tempo</th>\n",
       "      <th>time_signature</th>\n",
       "    </tr>\n",
       "  </thead>\n",
       "  <tbody>\n",
       "    <tr>\n",
       "      <th>cc6e0aa400bfe6024f6f27813bf2d7db525b4d8a</th>\n",
       "      <td>0.584922</td>\n",
       "      <td>0.62776</td>\n",
       "      <td>0.461252</td>\n",
       "      <td>0.816201</td>\n",
       "      <td>0.618852</td>\n",
       "      <td>0.057231</td>\n",
       "      <td>0.251552</td>\n",
       "      <td>0.148718</td>\n",
       "      <td>0.15968</td>\n",
       "      <td>0.513176</td>\n",
       "      <td>0.496136</td>\n",
       "      <td>0.792623</td>\n",
       "    </tr>\n",
       "  </tbody>\n",
       "</table>\n",
       "</div>"
      ],
      "text/plain": [
       "                                          danceability   energy       key  \\\n",
       "cc6e0aa400bfe6024f6f27813bf2d7db525b4d8a      0.584922  0.62776  0.461252   \n",
       "\n",
       "                                          loudness      mode  speechiness  \\\n",
       "cc6e0aa400bfe6024f6f27813bf2d7db525b4d8a  0.816201  0.618852     0.057231   \n",
       "\n",
       "                                          acousticness  instrumentalness  \\\n",
       "cc6e0aa400bfe6024f6f27813bf2d7db525b4d8a      0.251552          0.148718   \n",
       "\n",
       "                                          liveness   valence     tempo  \\\n",
       "cc6e0aa400bfe6024f6f27813bf2d7db525b4d8a   0.15968  0.513176  0.496136   \n",
       "\n",
       "                                          time_signature  \n",
       "cc6e0aa400bfe6024f6f27813bf2d7db525b4d8a        0.792623  "
      ]
     },
     "execution_count": 6,
     "metadata": {},
     "output_type": "execute_result"
    }
   ],
   "source": [
    "df_profiles.sample()"
   ]
  },
  {
   "cell_type": "code",
   "execution_count": 7,
   "metadata": {},
   "outputs": [
    {
     "data": {
      "text/plain": [
       "(1000, 13)"
      ]
     },
     "execution_count": 7,
     "metadata": {},
     "output_type": "execute_result"
    }
   ],
   "source": [
    "df_profiles_clustered_kmeans = pd.read_csv(path_user_profiles_KMEANS, on_bad_lines='skip', index_col='user_id')\n",
    "df_profiles_clustered_kmeans.shape"
   ]
  },
  {
   "cell_type": "code",
   "execution_count": 8,
   "metadata": {},
   "outputs": [
    {
     "data": {
      "text/html": [
       "<div>\n",
       "<style scoped>\n",
       "    .dataframe tbody tr th:only-of-type {\n",
       "        vertical-align: middle;\n",
       "    }\n",
       "\n",
       "    .dataframe tbody tr th {\n",
       "        vertical-align: top;\n",
       "    }\n",
       "\n",
       "    .dataframe thead th {\n",
       "        text-align: right;\n",
       "    }\n",
       "</style>\n",
       "<table border=\"1\" class=\"dataframe\">\n",
       "  <thead>\n",
       "    <tr style=\"text-align: right;\">\n",
       "      <th></th>\n",
       "      <th>danceability</th>\n",
       "      <th>energy</th>\n",
       "      <th>key</th>\n",
       "      <th>loudness</th>\n",
       "      <th>mode</th>\n",
       "      <th>speechiness</th>\n",
       "      <th>acousticness</th>\n",
       "      <th>instrumentalness</th>\n",
       "      <th>liveness</th>\n",
       "      <th>valence</th>\n",
       "      <th>tempo</th>\n",
       "      <th>time_signature</th>\n",
       "      <th>cluster_k_5</th>\n",
       "    </tr>\n",
       "    <tr>\n",
       "      <th>user_id</th>\n",
       "      <th></th>\n",
       "      <th></th>\n",
       "      <th></th>\n",
       "      <th></th>\n",
       "      <th></th>\n",
       "      <th></th>\n",
       "      <th></th>\n",
       "      <th></th>\n",
       "      <th></th>\n",
       "      <th></th>\n",
       "      <th></th>\n",
       "      <th></th>\n",
       "      <th></th>\n",
       "    </tr>\n",
       "  </thead>\n",
       "  <tbody>\n",
       "    <tr>\n",
       "      <th>6b7788ae3b05a52009daa9ce24281616400e58a3</th>\n",
       "      <td>0.431927</td>\n",
       "      <td>0.871621</td>\n",
       "      <td>0.382984</td>\n",
       "      <td>0.858557</td>\n",
       "      <td>0.751282</td>\n",
       "      <td>0.125537</td>\n",
       "      <td>0.011339</td>\n",
       "      <td>0.117508</td>\n",
       "      <td>0.272788</td>\n",
       "      <td>0.391089</td>\n",
       "      <td>0.537342</td>\n",
       "      <td>0.781026</td>\n",
       "      <td>2</td>\n",
       "    </tr>\n",
       "  </tbody>\n",
       "</table>\n",
       "</div>"
      ],
      "text/plain": [
       "                                          danceability    energy       key  \\\n",
       "user_id                                                                      \n",
       "6b7788ae3b05a52009daa9ce24281616400e58a3      0.431927  0.871621  0.382984   \n",
       "\n",
       "                                          loudness      mode  speechiness  \\\n",
       "user_id                                                                     \n",
       "6b7788ae3b05a52009daa9ce24281616400e58a3  0.858557  0.751282     0.125537   \n",
       "\n",
       "                                          acousticness  instrumentalness  \\\n",
       "user_id                                                                    \n",
       "6b7788ae3b05a52009daa9ce24281616400e58a3      0.011339          0.117508   \n",
       "\n",
       "                                          liveness   valence     tempo  \\\n",
       "user_id                                                                  \n",
       "6b7788ae3b05a52009daa9ce24281616400e58a3  0.272788  0.391089  0.537342   \n",
       "\n",
       "                                          time_signature  cluster_k_5  \n",
       "user_id                                                                \n",
       "6b7788ae3b05a52009daa9ce24281616400e58a3        0.781026            2  "
      ]
     },
     "execution_count": 8,
     "metadata": {},
     "output_type": "execute_result"
    }
   ],
   "source": [
    "df_profiles_clustered_kmeans.sample()"
   ]
  },
  {
   "cell_type": "code",
   "execution_count": 9,
   "metadata": {},
   "outputs": [],
   "source": [
    "df_profiles_clustered_kmeans.columns = ['danceability', 'energy', 'key', 'loudness', 'mode', 'speechiness',\n",
    "       'acousticness', 'instrumentalness', 'liveness', 'valence', 'tempo',\n",
    "       'time_signature', 'cluster']"
   ]
  },
  {
   "cell_type": "code",
   "execution_count": 10,
   "metadata": {},
   "outputs": [
    {
     "data": {
      "text/plain": [
       "Index(['danceability', 'energy', 'key', 'loudness', 'mode', 'speechiness',\n",
       "       'acousticness', 'instrumentalness', 'liveness', 'valence', 'tempo',\n",
       "       'time_signature', 'cluster'],\n",
       "      dtype='object')"
      ]
     },
     "execution_count": 10,
     "metadata": {},
     "output_type": "execute_result"
    }
   ],
   "source": [
    "df_profiles_clustered_kmeans.columns"
   ]
  },
  {
   "cell_type": "code",
   "execution_count": 11,
   "metadata": {},
   "outputs": [
    {
     "data": {
      "text/plain": [
       "(1000, 13)"
      ]
     },
     "execution_count": 11,
     "metadata": {},
     "output_type": "execute_result"
    }
   ],
   "source": [
    "df_profiles_clustered_hierarchical = pd.read_csv(path_user_profiles_Hierarchical, on_bad_lines='skip', index_col='user_id')\n",
    "df_profiles_clustered_hierarchical.shape"
   ]
  },
  {
   "cell_type": "code",
   "execution_count": 12,
   "metadata": {},
   "outputs": [
    {
     "data": {
      "text/html": [
       "<div>\n",
       "<style scoped>\n",
       "    .dataframe tbody tr th:only-of-type {\n",
       "        vertical-align: middle;\n",
       "    }\n",
       "\n",
       "    .dataframe tbody tr th {\n",
       "        vertical-align: top;\n",
       "    }\n",
       "\n",
       "    .dataframe thead th {\n",
       "        text-align: right;\n",
       "    }\n",
       "</style>\n",
       "<table border=\"1\" class=\"dataframe\">\n",
       "  <thead>\n",
       "    <tr style=\"text-align: right;\">\n",
       "      <th></th>\n",
       "      <th>danceability</th>\n",
       "      <th>energy</th>\n",
       "      <th>key</th>\n",
       "      <th>loudness</th>\n",
       "      <th>mode</th>\n",
       "      <th>speechiness</th>\n",
       "      <th>acousticness</th>\n",
       "      <th>instrumentalness</th>\n",
       "      <th>liveness</th>\n",
       "      <th>valence</th>\n",
       "      <th>tempo</th>\n",
       "      <th>time_signature</th>\n",
       "      <th>cluster</th>\n",
       "    </tr>\n",
       "    <tr>\n",
       "      <th>user_id</th>\n",
       "      <th></th>\n",
       "      <th></th>\n",
       "      <th></th>\n",
       "      <th></th>\n",
       "      <th></th>\n",
       "      <th></th>\n",
       "      <th></th>\n",
       "      <th></th>\n",
       "      <th></th>\n",
       "      <th></th>\n",
       "      <th></th>\n",
       "      <th></th>\n",
       "      <th></th>\n",
       "    </tr>\n",
       "  </thead>\n",
       "  <tbody>\n",
       "    <tr>\n",
       "      <th>f373ceefaa0a2f42149ff2b47d4e78b2407fb12c</th>\n",
       "      <td>0.490331</td>\n",
       "      <td>0.717398</td>\n",
       "      <td>0.469997</td>\n",
       "      <td>0.829073</td>\n",
       "      <td>0.679887</td>\n",
       "      <td>0.071024</td>\n",
       "      <td>0.194674</td>\n",
       "      <td>0.19676</td>\n",
       "      <td>0.24499</td>\n",
       "      <td>0.432569</td>\n",
       "      <td>0.523999</td>\n",
       "      <td>0.776771</td>\n",
       "      <td>1</td>\n",
       "    </tr>\n",
       "  </tbody>\n",
       "</table>\n",
       "</div>"
      ],
      "text/plain": [
       "                                          danceability    energy       key  \\\n",
       "user_id                                                                      \n",
       "f373ceefaa0a2f42149ff2b47d4e78b2407fb12c      0.490331  0.717398  0.469997   \n",
       "\n",
       "                                          loudness      mode  speechiness  \\\n",
       "user_id                                                                     \n",
       "f373ceefaa0a2f42149ff2b47d4e78b2407fb12c  0.829073  0.679887     0.071024   \n",
       "\n",
       "                                          acousticness  instrumentalness  \\\n",
       "user_id                                                                    \n",
       "f373ceefaa0a2f42149ff2b47d4e78b2407fb12c      0.194674           0.19676   \n",
       "\n",
       "                                          liveness   valence     tempo  \\\n",
       "user_id                                                                  \n",
       "f373ceefaa0a2f42149ff2b47d4e78b2407fb12c   0.24499  0.432569  0.523999   \n",
       "\n",
       "                                          time_signature  cluster  \n",
       "user_id                                                            \n",
       "f373ceefaa0a2f42149ff2b47d4e78b2407fb12c        0.776771        1  "
      ]
     },
     "execution_count": 12,
     "metadata": {},
     "output_type": "execute_result"
    }
   ],
   "source": [
    "df_profiles_clustered_hierarchical.sample()"
   ]
  },
  {
   "cell_type": "code",
   "execution_count": 13,
   "metadata": {},
   "outputs": [
    {
     "data": {
      "text/plain": [
       "Index(['danceability', 'energy', 'key', 'loudness', 'mode', 'speechiness',\n",
       "       'acousticness', 'instrumentalness', 'liveness', 'valence', 'tempo',\n",
       "       'time_signature', 'cluster'],\n",
       "      dtype='object')"
      ]
     },
     "execution_count": 13,
     "metadata": {},
     "output_type": "execute_result"
    }
   ],
   "source": [
    "df_profiles_clustered_hierarchical.columns"
   ]
  },
  {
   "cell_type": "markdown",
   "metadata": {},
   "source": [
    "### **Оберемо випадкового користувача**"
   ]
  },
  {
   "cell_type": "code",
   "execution_count": 14,
   "metadata": {},
   "outputs": [
    {
     "data": {
      "text/html": [
       "<div>\n",
       "<style scoped>\n",
       "    .dataframe tbody tr th:only-of-type {\n",
       "        vertical-align: middle;\n",
       "    }\n",
       "\n",
       "    .dataframe tbody tr th {\n",
       "        vertical-align: top;\n",
       "    }\n",
       "\n",
       "    .dataframe thead th {\n",
       "        text-align: right;\n",
       "    }\n",
       "</style>\n",
       "<table border=\"1\" class=\"dataframe\">\n",
       "  <thead>\n",
       "    <tr style=\"text-align: right;\">\n",
       "      <th></th>\n",
       "      <th>track_id</th>\n",
       "      <th>playcount</th>\n",
       "      <th>playcount_norm</th>\n",
       "    </tr>\n",
       "    <tr>\n",
       "      <th>user_id</th>\n",
       "      <th></th>\n",
       "      <th></th>\n",
       "      <th></th>\n",
       "    </tr>\n",
       "  </thead>\n",
       "  <tbody>\n",
       "    <tr>\n",
       "      <th>ec6dfcf19485cb011e0b22637075037aae34cf26</th>\n",
       "      <td>784</td>\n",
       "      <td>784</td>\n",
       "      <td>784</td>\n",
       "    </tr>\n",
       "    <tr>\n",
       "      <th>4e11f45d732f4861772b2906f81a7d384552ad12</th>\n",
       "      <td>384</td>\n",
       "      <td>384</td>\n",
       "      <td>384</td>\n",
       "    </tr>\n",
       "    <tr>\n",
       "      <th>726da71c2c2ea119119a7957517fccd028d1be76</th>\n",
       "      <td>376</td>\n",
       "      <td>376</td>\n",
       "      <td>376</td>\n",
       "    </tr>\n",
       "    <tr>\n",
       "      <th>113255a012b2affeab62607563d03fbdf31b08e7</th>\n",
       "      <td>367</td>\n",
       "      <td>367</td>\n",
       "      <td>367</td>\n",
       "    </tr>\n",
       "    <tr>\n",
       "      <th>7adec7f006cb09482d36609d205293d8b61f030e</th>\n",
       "      <td>366</td>\n",
       "      <td>366</td>\n",
       "      <td>366</td>\n",
       "    </tr>\n",
       "    <tr>\n",
       "      <th>...</th>\n",
       "      <td>...</td>\n",
       "      <td>...</td>\n",
       "      <td>...</td>\n",
       "    </tr>\n",
       "    <tr>\n",
       "      <th>c736e87d6a5193662b776136067a7e104f970fbb</th>\n",
       "      <td>1</td>\n",
       "      <td>1</td>\n",
       "      <td>1</td>\n",
       "    </tr>\n",
       "    <tr>\n",
       "      <th>3d3750d24e0200ab74aee8f3a11f9c7778f22d4d</th>\n",
       "      <td>1</td>\n",
       "      <td>1</td>\n",
       "      <td>1</td>\n",
       "    </tr>\n",
       "    <tr>\n",
       "      <th>c737a8a65917262b5ff3289242f83929277554a1</th>\n",
       "      <td>1</td>\n",
       "      <td>1</td>\n",
       "      <td>1</td>\n",
       "    </tr>\n",
       "    <tr>\n",
       "      <th>c7383053293ee1fe7b665a1e489b42b370ad8a6b</th>\n",
       "      <td>1</td>\n",
       "      <td>1</td>\n",
       "      <td>1</td>\n",
       "    </tr>\n",
       "    <tr>\n",
       "      <th>00000b722001882066dff9d2da8a775658053ea0</th>\n",
       "      <td>1</td>\n",
       "      <td>1</td>\n",
       "      <td>1</td>\n",
       "    </tr>\n",
       "  </tbody>\n",
       "</table>\n",
       "<p>962037 rows × 3 columns</p>\n",
       "</div>"
      ],
      "text/plain": [
       "                                          track_id  playcount  playcount_norm\n",
       "user_id                                                                      \n",
       "ec6dfcf19485cb011e0b22637075037aae34cf26       784        784             784\n",
       "4e11f45d732f4861772b2906f81a7d384552ad12       384        384             384\n",
       "726da71c2c2ea119119a7957517fccd028d1be76       376        376             376\n",
       "113255a012b2affeab62607563d03fbdf31b08e7       367        367             367\n",
       "7adec7f006cb09482d36609d205293d8b61f030e       366        366             366\n",
       "...                                            ...        ...             ...\n",
       "c736e87d6a5193662b776136067a7e104f970fbb         1          1               1\n",
       "3d3750d24e0200ab74aee8f3a11f9c7778f22d4d         1          1               1\n",
       "c737a8a65917262b5ff3289242f83929277554a1         1          1               1\n",
       "c7383053293ee1fe7b665a1e489b42b370ad8a6b         1          1               1\n",
       "00000b722001882066dff9d2da8a775658053ea0         1          1               1\n",
       "\n",
       "[962037 rows x 3 columns]"
      ]
     },
     "execution_count": 14,
     "metadata": {},
     "output_type": "execute_result"
    }
   ],
   "source": [
    "df_users.groupby('user_id').count().sort_values(by='track_id', ascending=False)"
   ]
  },
  {
   "cell_type": "markdown",
   "metadata": {},
   "source": [
    "Візьмемо користувача з id '726da71c2c2ea119119a7957517fccd028d1be76', оскільки він має багато даних про прослуховування."
   ]
  },
  {
   "cell_type": "code",
   "execution_count": 15,
   "metadata": {},
   "outputs": [
    {
     "data": {
      "text/html": [
       "<div>\n",
       "<style scoped>\n",
       "    .dataframe tbody tr th:only-of-type {\n",
       "        vertical-align: middle;\n",
       "    }\n",
       "\n",
       "    .dataframe tbody tr th {\n",
       "        vertical-align: top;\n",
       "    }\n",
       "\n",
       "    .dataframe thead th {\n",
       "        text-align: right;\n",
       "    }\n",
       "</style>\n",
       "<table border=\"1\" class=\"dataframe\">\n",
       "  <thead>\n",
       "    <tr style=\"text-align: right;\">\n",
       "      <th></th>\n",
       "      <th>danceability</th>\n",
       "      <th>energy</th>\n",
       "      <th>key</th>\n",
       "      <th>loudness</th>\n",
       "      <th>mode</th>\n",
       "      <th>speechiness</th>\n",
       "      <th>acousticness</th>\n",
       "      <th>instrumentalness</th>\n",
       "      <th>liveness</th>\n",
       "      <th>valence</th>\n",
       "      <th>tempo</th>\n",
       "      <th>time_signature</th>\n",
       "    </tr>\n",
       "  </thead>\n",
       "  <tbody>\n",
       "    <tr>\n",
       "      <th>726da71c2c2ea119119a7957517fccd028d1be76</th>\n",
       "      <td>0.534128</td>\n",
       "      <td>0.686606</td>\n",
       "      <td>0.484437</td>\n",
       "      <td>0.820491</td>\n",
       "      <td>0.711957</td>\n",
       "      <td>0.06595</td>\n",
       "      <td>0.207395</td>\n",
       "      <td>0.2059</td>\n",
       "      <td>0.200038</td>\n",
       "      <td>0.49707</td>\n",
       "      <td>0.522242</td>\n",
       "      <td>0.779348</td>\n",
       "    </tr>\n",
       "  </tbody>\n",
       "</table>\n",
       "</div>"
      ],
      "text/plain": [
       "                                          danceability    energy       key  \\\n",
       "726da71c2c2ea119119a7957517fccd028d1be76      0.534128  0.686606  0.484437   \n",
       "\n",
       "                                          loudness      mode  speechiness  \\\n",
       "726da71c2c2ea119119a7957517fccd028d1be76  0.820491  0.711957      0.06595   \n",
       "\n",
       "                                          acousticness  instrumentalness  \\\n",
       "726da71c2c2ea119119a7957517fccd028d1be76      0.207395            0.2059   \n",
       "\n",
       "                                          liveness  valence     tempo  \\\n",
       "726da71c2c2ea119119a7957517fccd028d1be76  0.200038  0.49707  0.522242   \n",
       "\n",
       "                                          time_signature  \n",
       "726da71c2c2ea119119a7957517fccd028d1be76        0.779348  "
      ]
     },
     "execution_count": 15,
     "metadata": {},
     "output_type": "execute_result"
    }
   ],
   "source": [
    "random_user_id = '726da71c2c2ea119119a7957517fccd028d1be76'\n",
    "random_user = df_profiles[df_profiles.index == random_user_id]\n",
    "random_user"
   ]
  },
  {
   "cell_type": "code",
   "execution_count": 16,
   "metadata": {},
   "outputs": [
    {
     "data": {
      "text/html": [
       "<div>\n",
       "<style scoped>\n",
       "    .dataframe tbody tr th:only-of-type {\n",
       "        vertical-align: middle;\n",
       "    }\n",
       "\n",
       "    .dataframe tbody tr th {\n",
       "        vertical-align: top;\n",
       "    }\n",
       "\n",
       "    .dataframe thead th {\n",
       "        text-align: right;\n",
       "    }\n",
       "</style>\n",
       "<table border=\"1\" class=\"dataframe\">\n",
       "  <thead>\n",
       "    <tr style=\"text-align: right;\">\n",
       "      <th></th>\n",
       "      <th>danceability</th>\n",
       "      <th>energy</th>\n",
       "      <th>key</th>\n",
       "      <th>loudness</th>\n",
       "      <th>mode</th>\n",
       "      <th>speechiness</th>\n",
       "      <th>acousticness</th>\n",
       "      <th>instrumentalness</th>\n",
       "      <th>liveness</th>\n",
       "      <th>valence</th>\n",
       "      <th>tempo</th>\n",
       "      <th>time_signature</th>\n",
       "      <th>cluster</th>\n",
       "    </tr>\n",
       "    <tr>\n",
       "      <th>user_id</th>\n",
       "      <th></th>\n",
       "      <th></th>\n",
       "      <th></th>\n",
       "      <th></th>\n",
       "      <th></th>\n",
       "      <th></th>\n",
       "      <th></th>\n",
       "      <th></th>\n",
       "      <th></th>\n",
       "      <th></th>\n",
       "      <th></th>\n",
       "      <th></th>\n",
       "      <th></th>\n",
       "    </tr>\n",
       "  </thead>\n",
       "  <tbody>\n",
       "    <tr>\n",
       "      <th>726da71c2c2ea119119a7957517fccd028d1be76</th>\n",
       "      <td>0.534128</td>\n",
       "      <td>0.686606</td>\n",
       "      <td>0.484437</td>\n",
       "      <td>0.820491</td>\n",
       "      <td>0.711957</td>\n",
       "      <td>0.06595</td>\n",
       "      <td>0.207395</td>\n",
       "      <td>0.2059</td>\n",
       "      <td>0.200038</td>\n",
       "      <td>0.49707</td>\n",
       "      <td>0.522242</td>\n",
       "      <td>0.779348</td>\n",
       "      <td>3</td>\n",
       "    </tr>\n",
       "  </tbody>\n",
       "</table>\n",
       "</div>"
      ],
      "text/plain": [
       "                                          danceability    energy       key  \\\n",
       "user_id                                                                      \n",
       "726da71c2c2ea119119a7957517fccd028d1be76      0.534128  0.686606  0.484437   \n",
       "\n",
       "                                          loudness      mode  speechiness  \\\n",
       "user_id                                                                     \n",
       "726da71c2c2ea119119a7957517fccd028d1be76  0.820491  0.711957      0.06595   \n",
       "\n",
       "                                          acousticness  instrumentalness  \\\n",
       "user_id                                                                    \n",
       "726da71c2c2ea119119a7957517fccd028d1be76      0.207395            0.2059   \n",
       "\n",
       "                                          liveness  valence     tempo  \\\n",
       "user_id                                                                 \n",
       "726da71c2c2ea119119a7957517fccd028d1be76  0.200038  0.49707  0.522242   \n",
       "\n",
       "                                          time_signature  cluster  \n",
       "user_id                                                            \n",
       "726da71c2c2ea119119a7957517fccd028d1be76        0.779348        3  "
      ]
     },
     "execution_count": 16,
     "metadata": {},
     "output_type": "execute_result"
    }
   ],
   "source": [
    "random_user_kmeans = df_profiles_clustered_kmeans[df_profiles_clustered_kmeans.index == random_user_id]\n",
    "random_user_kmeans"
   ]
  },
  {
   "cell_type": "code",
   "execution_count": 17,
   "metadata": {},
   "outputs": [
    {
     "data": {
      "text/html": [
       "<div>\n",
       "<style scoped>\n",
       "    .dataframe tbody tr th:only-of-type {\n",
       "        vertical-align: middle;\n",
       "    }\n",
       "\n",
       "    .dataframe tbody tr th {\n",
       "        vertical-align: top;\n",
       "    }\n",
       "\n",
       "    .dataframe thead th {\n",
       "        text-align: right;\n",
       "    }\n",
       "</style>\n",
       "<table border=\"1\" class=\"dataframe\">\n",
       "  <thead>\n",
       "    <tr style=\"text-align: right;\">\n",
       "      <th></th>\n",
       "      <th>danceability</th>\n",
       "      <th>energy</th>\n",
       "      <th>key</th>\n",
       "      <th>loudness</th>\n",
       "      <th>mode</th>\n",
       "      <th>speechiness</th>\n",
       "      <th>acousticness</th>\n",
       "      <th>instrumentalness</th>\n",
       "      <th>liveness</th>\n",
       "      <th>valence</th>\n",
       "      <th>tempo</th>\n",
       "      <th>time_signature</th>\n",
       "      <th>cluster</th>\n",
       "    </tr>\n",
       "    <tr>\n",
       "      <th>user_id</th>\n",
       "      <th></th>\n",
       "      <th></th>\n",
       "      <th></th>\n",
       "      <th></th>\n",
       "      <th></th>\n",
       "      <th></th>\n",
       "      <th></th>\n",
       "      <th></th>\n",
       "      <th></th>\n",
       "      <th></th>\n",
       "      <th></th>\n",
       "      <th></th>\n",
       "      <th></th>\n",
       "    </tr>\n",
       "  </thead>\n",
       "  <tbody>\n",
       "    <tr>\n",
       "      <th>726da71c2c2ea119119a7957517fccd028d1be76</th>\n",
       "      <td>0.534128</td>\n",
       "      <td>0.686606</td>\n",
       "      <td>0.484437</td>\n",
       "      <td>0.820491</td>\n",
       "      <td>0.711957</td>\n",
       "      <td>0.06595</td>\n",
       "      <td>0.207395</td>\n",
       "      <td>0.2059</td>\n",
       "      <td>0.200038</td>\n",
       "      <td>0.49707</td>\n",
       "      <td>0.522242</td>\n",
       "      <td>0.779348</td>\n",
       "      <td>1</td>\n",
       "    </tr>\n",
       "  </tbody>\n",
       "</table>\n",
       "</div>"
      ],
      "text/plain": [
       "                                          danceability    energy       key  \\\n",
       "user_id                                                                      \n",
       "726da71c2c2ea119119a7957517fccd028d1be76      0.534128  0.686606  0.484437   \n",
       "\n",
       "                                          loudness      mode  speechiness  \\\n",
       "user_id                                                                     \n",
       "726da71c2c2ea119119a7957517fccd028d1be76  0.820491  0.711957      0.06595   \n",
       "\n",
       "                                          acousticness  instrumentalness  \\\n",
       "user_id                                                                    \n",
       "726da71c2c2ea119119a7957517fccd028d1be76      0.207395            0.2059   \n",
       "\n",
       "                                          liveness  valence     tempo  \\\n",
       "user_id                                                                 \n",
       "726da71c2c2ea119119a7957517fccd028d1be76  0.200038  0.49707  0.522242   \n",
       "\n",
       "                                          time_signature  cluster  \n",
       "user_id                                                            \n",
       "726da71c2c2ea119119a7957517fccd028d1be76        0.779348        1  "
      ]
     },
     "execution_count": 17,
     "metadata": {},
     "output_type": "execute_result"
    }
   ],
   "source": [
    "random_user_hierarchical = df_profiles_clustered_hierarchical[df_profiles_clustered_hierarchical.index == random_user_id]\n",
    "random_user_hierarchical"
   ]
  },
  {
   "cell_type": "code",
   "execution_count": 18,
   "metadata": {},
   "outputs": [],
   "source": [
    "features = ['danceability', 'energy', 'key', 'loudness', 'mode', 'speechiness',\n",
    "       'acousticness', 'instrumentalness', 'liveness', 'valence', 'tempo',\n",
    "       'time_signature']"
   ]
  },
  {
   "cell_type": "markdown",
   "metadata": {
    "id": "rC4cFIloi_nG"
   },
   "source": [
    "# **Автоматизація процесу рекомендацій**"
   ]
  },
  {
   "cell_type": "code",
   "execution_count": 19,
   "metadata": {
    "id": "WBJP0VTIi_Ga"
   },
   "outputs": [],
   "source": [
    "# type = ['cossine', 'pearson', 'manhattan', 'minkowski_{n}, 'euclidean']\n",
    "def get_recommendations(user_profile, tracks_df, features, type_func='cossine'):\n",
    "\n",
    "  def cossine_similarity(user_profile:pd.DataFrame, songs_df:pd.DataFrame):\n",
    "    return np.dot(user_profile, songs_df) / (np.linalg.norm(user_profile) * np.linalg.norm(songs_df))\n",
    "\n",
    "  def manhattan_distance(user_profile, track_row):\n",
    "    user_profile = np.asarray(user_profile)\n",
    "    track_row = np.asarray(track_row)\n",
    "    return np.sum(np.abs(user_profile - track_row))\n",
    "\n",
    "  def euclidean_distance(user_profile, songs_df):\n",
    "    user_profile = np.asarray(user_profile)\n",
    "    songs_df = np.asarray(songs_df)\n",
    "    return np.sqrt(np.sum((user_profile - songs_df) ** 2))\n",
    "\n",
    "  def pearson_correlation(user_profile: pd.DataFrame, tracks_df: pd.DataFrame):\n",
    "    user_profile_series = user_profile\n",
    "    if type(user_profile) is pd.DataFrame:\n",
    "      user_profile_series = user_profile.iloc[0].astype(float)\n",
    "\n",
    "    correlations = tracks_df.apply(lambda track: user_profile_series.corr(track.astype(float)), axis=1)\n",
    "    return correlations\n",
    "\n",
    "  def minkowski_distance(user_profile, track_row, p):\n",
    "    user_profile = np.asarray(user_profile)\n",
    "    track_row = np.asarray(track_row)\n",
    "    return np.sum(np.abs(user_profile - track_row) ** p) ** (1 / p)\n",
    "\n",
    "  df = tracks_df[features]\n",
    "  if type_func == 'cossine':\n",
    "    return df.apply(lambda track: cossine_similarity(user_profile, track.astype(float))[0], axis=1)\n",
    "  elif type_func == 'pearson':\n",
    "    return pearson_correlation(user_profile=user_profile, tracks_df=df)\n",
    "  elif type_func == 'manhattan':\n",
    "    return df.apply(lambda track: manhattan_distance(user_profile.iloc[0].astype(float), track.astype(float)), axis=1)\n",
    "  elif type_func == 'euclidean':\n",
    "    return df.apply(lambda track: euclidean_distance(user_profile.iloc[0].astype(float), track.astype(float)), axis=1)\n",
    "  elif type_func.startswith('minkowski_'):\n",
    "    p = int(type_func.split('_')[-1])\n",
    "    return df.apply(lambda track: minkowski_distance(user_profile.iloc[0].astype(float), track.astype(float), p=p), axis=1)"
   ]
  },
  {
   "cell_type": "code",
   "execution_count": 20,
   "metadata": {},
   "outputs": [],
   "source": [
    "df_users = df_users.merge(df_profiles_clustered_kmeans['cluster'], left_on='user_id', right_index=True)"
   ]
  },
  {
   "cell_type": "code",
   "execution_count": 21,
   "metadata": {},
   "outputs": [
    {
     "data": {
      "text/html": [
       "<div>\n",
       "<style scoped>\n",
       "    .dataframe tbody tr th:only-of-type {\n",
       "        vertical-align: middle;\n",
       "    }\n",
       "\n",
       "    .dataframe tbody tr th {\n",
       "        vertical-align: top;\n",
       "    }\n",
       "\n",
       "    .dataframe thead th {\n",
       "        text-align: right;\n",
       "    }\n",
       "</style>\n",
       "<table border=\"1\" class=\"dataframe\">\n",
       "  <thead>\n",
       "    <tr style=\"text-align: right;\">\n",
       "      <th></th>\n",
       "      <th>track_id</th>\n",
       "      <th>user_id</th>\n",
       "      <th>playcount</th>\n",
       "      <th>playcount_norm</th>\n",
       "      <th>cluster</th>\n",
       "    </tr>\n",
       "  </thead>\n",
       "  <tbody>\n",
       "    <tr>\n",
       "      <th>4537300</th>\n",
       "      <td>TRGENMC128F4263658</td>\n",
       "      <td>bc29b378a4751d9b6cc7737207584abc2c24c9d9</td>\n",
       "      <td>1</td>\n",
       "      <td>0.0</td>\n",
       "      <td>3</td>\n",
       "    </tr>\n",
       "  </tbody>\n",
       "</table>\n",
       "</div>"
      ],
      "text/plain": [
       "                   track_id                                   user_id  \\\n",
       "4537300  TRGENMC128F4263658  bc29b378a4751d9b6cc7737207584abc2c24c9d9   \n",
       "\n",
       "         playcount  playcount_norm  cluster  \n",
       "4537300          1             0.0        3  "
      ]
     },
     "execution_count": 21,
     "metadata": {},
     "output_type": "execute_result"
    }
   ],
   "source": [
    "df_users.sample()"
   ]
  },
  {
   "cell_type": "code",
   "execution_count": 22,
   "metadata": {},
   "outputs": [],
   "source": [
    "df_users.columns = ['track_id', 'user_id', 'playcount', 'playcount_norm', 'kmeans_cluster']"
   ]
  },
  {
   "cell_type": "code",
   "execution_count": 23,
   "metadata": {},
   "outputs": [],
   "source": [
    "df_users = df_users.merge(df_profiles_clustered_hierarchical['cluster'], left_on='user_id', right_index=True)"
   ]
  },
  {
   "cell_type": "code",
   "execution_count": 24,
   "metadata": {},
   "outputs": [],
   "source": [
    "df_users.columns = ['track_id', 'user_id', 'playcount', 'playcount_norm', 'kmeans_cluster', 'hierarchical_cluster']"
   ]
  },
  {
   "cell_type": "code",
   "execution_count": 25,
   "metadata": {},
   "outputs": [],
   "source": [
    "def get_different_recommendations(user_profile, tracks_df, features, metrics):\n",
    "    res = {}\n",
    "    for metric in metrics:\n",
    "        if metric not in res:\n",
    "            res[metric] = []\n",
    "        res[metric] = get_recommendations(user_profile=user_profile, tracks_df=tracks_df, features=features, type_func=metric)\n",
    "    return res"
   ]
  },
  {
   "cell_type": "code",
   "execution_count": 28,
   "metadata": {},
   "outputs": [],
   "source": [
    "unique_users = df_profiles.index.values\n",
    "np.random.shuffle(unique_users)\n",
    "unique_users = unique_users[:20]"
   ]
  },
  {
   "cell_type": "code",
   "execution_count": 29,
   "metadata": {
    "scrolled": true
   },
   "outputs": [
    {
     "name": "stderr",
     "output_type": "stream",
     "text": [
      "C:\\Users\\Влада\\AppData\\Local\\Temp\\ipykernel_10040\\858570187.py:5: RuntimeWarning: invalid value encountered in divide\n",
      "  return np.dot(user_profile, songs_df) / (np.linalg.norm(user_profile) * np.linalg.norm(songs_df))\n",
      "F:\\programs\\anaconda3\\lib\\site-packages\\numpy\\lib\\function_base.py:2897: RuntimeWarning: invalid value encountered in divide\n",
      "  c /= stddev[:, None]\n",
      "F:\\programs\\anaconda3\\lib\\site-packages\\numpy\\lib\\function_base.py:2898: RuntimeWarning: invalid value encountered in divide\n",
      "  c /= stddev[None, :]\n",
      "C:\\Users\\Влада\\AppData\\Local\\Temp\\ipykernel_10040\\858570187.py:5: RuntimeWarning: invalid value encountered in divide\n",
      "  return np.dot(user_profile, songs_df) / (np.linalg.norm(user_profile) * np.linalg.norm(songs_df))\n",
      "F:\\programs\\anaconda3\\lib\\site-packages\\numpy\\lib\\function_base.py:2897: RuntimeWarning: invalid value encountered in divide\n",
      "  c /= stddev[:, None]\n",
      "F:\\programs\\anaconda3\\lib\\site-packages\\numpy\\lib\\function_base.py:2898: RuntimeWarning: invalid value encountered in divide\n",
      "  c /= stddev[None, :]\n",
      "C:\\Users\\Влада\\AppData\\Local\\Temp\\ipykernel_10040\\858570187.py:5: RuntimeWarning: invalid value encountered in divide\n",
      "  return np.dot(user_profile, songs_df) / (np.linalg.norm(user_profile) * np.linalg.norm(songs_df))\n",
      "F:\\programs\\anaconda3\\lib\\site-packages\\numpy\\lib\\function_base.py:2897: RuntimeWarning: invalid value encountered in divide\n",
      "  c /= stddev[:, None]\n",
      "F:\\programs\\anaconda3\\lib\\site-packages\\numpy\\lib\\function_base.py:2898: RuntimeWarning: invalid value encountered in divide\n",
      "  c /= stddev[None, :]\n",
      "C:\\Users\\Влада\\AppData\\Local\\Temp\\ipykernel_10040\\858570187.py:5: RuntimeWarning: invalid value encountered in divide\n",
      "  return np.dot(user_profile, songs_df) / (np.linalg.norm(user_profile) * np.linalg.norm(songs_df))\n",
      "F:\\programs\\anaconda3\\lib\\site-packages\\numpy\\lib\\function_base.py:2897: RuntimeWarning: invalid value encountered in divide\n",
      "  c /= stddev[:, None]\n",
      "F:\\programs\\anaconda3\\lib\\site-packages\\numpy\\lib\\function_base.py:2898: RuntimeWarning: invalid value encountered in divide\n",
      "  c /= stddev[None, :]\n",
      "C:\\Users\\Влада\\AppData\\Local\\Temp\\ipykernel_10040\\858570187.py:5: RuntimeWarning: invalid value encountered in divide\n",
      "  return np.dot(user_profile, songs_df) / (np.linalg.norm(user_profile) * np.linalg.norm(songs_df))\n",
      "F:\\programs\\anaconda3\\lib\\site-packages\\numpy\\lib\\function_base.py:2897: RuntimeWarning: invalid value encountered in divide\n",
      "  c /= stddev[:, None]\n",
      "F:\\programs\\anaconda3\\lib\\site-packages\\numpy\\lib\\function_base.py:2898: RuntimeWarning: invalid value encountered in divide\n",
      "  c /= stddev[None, :]\n",
      "C:\\Users\\Влада\\AppData\\Local\\Temp\\ipykernel_10040\\858570187.py:5: RuntimeWarning: invalid value encountered in divide\n",
      "  return np.dot(user_profile, songs_df) / (np.linalg.norm(user_profile) * np.linalg.norm(songs_df))\n",
      "F:\\programs\\anaconda3\\lib\\site-packages\\numpy\\lib\\function_base.py:2897: RuntimeWarning: invalid value encountered in divide\n",
      "  c /= stddev[:, None]\n",
      "F:\\programs\\anaconda3\\lib\\site-packages\\numpy\\lib\\function_base.py:2898: RuntimeWarning: invalid value encountered in divide\n",
      "  c /= stddev[None, :]\n",
      "C:\\Users\\Влада\\AppData\\Local\\Temp\\ipykernel_10040\\858570187.py:5: RuntimeWarning: invalid value encountered in divide\n",
      "  return np.dot(user_profile, songs_df) / (np.linalg.norm(user_profile) * np.linalg.norm(songs_df))\n",
      "F:\\programs\\anaconda3\\lib\\site-packages\\numpy\\lib\\function_base.py:2897: RuntimeWarning: invalid value encountered in divide\n",
      "  c /= stddev[:, None]\n",
      "F:\\programs\\anaconda3\\lib\\site-packages\\numpy\\lib\\function_base.py:2898: RuntimeWarning: invalid value encountered in divide\n",
      "  c /= stddev[None, :]\n",
      "C:\\Users\\Влада\\AppData\\Local\\Temp\\ipykernel_10040\\858570187.py:5: RuntimeWarning: invalid value encountered in divide\n",
      "  return np.dot(user_profile, songs_df) / (np.linalg.norm(user_profile) * np.linalg.norm(songs_df))\n",
      "F:\\programs\\anaconda3\\lib\\site-packages\\numpy\\lib\\function_base.py:2897: RuntimeWarning: invalid value encountered in divide\n",
      "  c /= stddev[:, None]\n",
      "F:\\programs\\anaconda3\\lib\\site-packages\\numpy\\lib\\function_base.py:2898: RuntimeWarning: invalid value encountered in divide\n",
      "  c /= stddev[None, :]\n",
      "C:\\Users\\Влада\\AppData\\Local\\Temp\\ipykernel_10040\\858570187.py:5: RuntimeWarning: invalid value encountered in divide\n",
      "  return np.dot(user_profile, songs_df) / (np.linalg.norm(user_profile) * np.linalg.norm(songs_df))\n",
      "F:\\programs\\anaconda3\\lib\\site-packages\\numpy\\lib\\function_base.py:2897: RuntimeWarning: invalid value encountered in divide\n",
      "  c /= stddev[:, None]\n",
      "F:\\programs\\anaconda3\\lib\\site-packages\\numpy\\lib\\function_base.py:2898: RuntimeWarning: invalid value encountered in divide\n",
      "  c /= stddev[None, :]\n",
      "C:\\Users\\Влада\\AppData\\Local\\Temp\\ipykernel_10040\\858570187.py:5: RuntimeWarning: invalid value encountered in divide\n",
      "  return np.dot(user_profile, songs_df) / (np.linalg.norm(user_profile) * np.linalg.norm(songs_df))\n",
      "F:\\programs\\anaconda3\\lib\\site-packages\\numpy\\lib\\function_base.py:2897: RuntimeWarning: invalid value encountered in divide\n",
      "  c /= stddev[:, None]\n",
      "F:\\programs\\anaconda3\\lib\\site-packages\\numpy\\lib\\function_base.py:2898: RuntimeWarning: invalid value encountered in divide\n",
      "  c /= stddev[None, :]\n",
      "C:\\Users\\Влада\\AppData\\Local\\Temp\\ipykernel_10040\\858570187.py:5: RuntimeWarning: invalid value encountered in divide\n",
      "  return np.dot(user_profile, songs_df) / (np.linalg.norm(user_profile) * np.linalg.norm(songs_df))\n",
      "F:\\programs\\anaconda3\\lib\\site-packages\\numpy\\lib\\function_base.py:2897: RuntimeWarning: invalid value encountered in divide\n",
      "  c /= stddev[:, None]\n",
      "F:\\programs\\anaconda3\\lib\\site-packages\\numpy\\lib\\function_base.py:2898: RuntimeWarning: invalid value encountered in divide\n",
      "  c /= stddev[None, :]\n",
      "C:\\Users\\Влада\\AppData\\Local\\Temp\\ipykernel_10040\\858570187.py:5: RuntimeWarning: invalid value encountered in divide\n",
      "  return np.dot(user_profile, songs_df) / (np.linalg.norm(user_profile) * np.linalg.norm(songs_df))\n",
      "F:\\programs\\anaconda3\\lib\\site-packages\\numpy\\lib\\function_base.py:2897: RuntimeWarning: invalid value encountered in divide\n",
      "  c /= stddev[:, None]\n",
      "F:\\programs\\anaconda3\\lib\\site-packages\\numpy\\lib\\function_base.py:2898: RuntimeWarning: invalid value encountered in divide\n",
      "  c /= stddev[None, :]\n",
      "C:\\Users\\Влада\\AppData\\Local\\Temp\\ipykernel_10040\\858570187.py:5: RuntimeWarning: invalid value encountered in divide\n",
      "  return np.dot(user_profile, songs_df) / (np.linalg.norm(user_profile) * np.linalg.norm(songs_df))\n",
      "F:\\programs\\anaconda3\\lib\\site-packages\\numpy\\lib\\function_base.py:2897: RuntimeWarning: invalid value encountered in divide\n",
      "  c /= stddev[:, None]\n",
      "F:\\programs\\anaconda3\\lib\\site-packages\\numpy\\lib\\function_base.py:2898: RuntimeWarning: invalid value encountered in divide\n",
      "  c /= stddev[None, :]\n",
      "C:\\Users\\Влада\\AppData\\Local\\Temp\\ipykernel_10040\\858570187.py:5: RuntimeWarning: invalid value encountered in divide\n",
      "  return np.dot(user_profile, songs_df) / (np.linalg.norm(user_profile) * np.linalg.norm(songs_df))\n",
      "F:\\programs\\anaconda3\\lib\\site-packages\\numpy\\lib\\function_base.py:2897: RuntimeWarning: invalid value encountered in divide\n",
      "  c /= stddev[:, None]\n",
      "F:\\programs\\anaconda3\\lib\\site-packages\\numpy\\lib\\function_base.py:2898: RuntimeWarning: invalid value encountered in divide\n",
      "  c /= stddev[None, :]\n",
      "C:\\Users\\Влада\\AppData\\Local\\Temp\\ipykernel_10040\\858570187.py:5: RuntimeWarning: invalid value encountered in divide\n",
      "  return np.dot(user_profile, songs_df) / (np.linalg.norm(user_profile) * np.linalg.norm(songs_df))\n",
      "F:\\programs\\anaconda3\\lib\\site-packages\\numpy\\lib\\function_base.py:2897: RuntimeWarning: invalid value encountered in divide\n",
      "  c /= stddev[:, None]\n",
      "F:\\programs\\anaconda3\\lib\\site-packages\\numpy\\lib\\function_base.py:2898: RuntimeWarning: invalid value encountered in divide\n",
      "  c /= stddev[None, :]\n",
      "C:\\Users\\Влада\\AppData\\Local\\Temp\\ipykernel_10040\\858570187.py:5: RuntimeWarning: invalid value encountered in divide\n",
      "  return np.dot(user_profile, songs_df) / (np.linalg.norm(user_profile) * np.linalg.norm(songs_df))\n",
      "F:\\programs\\anaconda3\\lib\\site-packages\\numpy\\lib\\function_base.py:2897: RuntimeWarning: invalid value encountered in divide\n",
      "  c /= stddev[:, None]\n",
      "F:\\programs\\anaconda3\\lib\\site-packages\\numpy\\lib\\function_base.py:2898: RuntimeWarning: invalid value encountered in divide\n",
      "  c /= stddev[None, :]\n",
      "C:\\Users\\Влада\\AppData\\Local\\Temp\\ipykernel_10040\\858570187.py:5: RuntimeWarning: invalid value encountered in divide\n",
      "  return np.dot(user_profile, songs_df) / (np.linalg.norm(user_profile) * np.linalg.norm(songs_df))\n",
      "F:\\programs\\anaconda3\\lib\\site-packages\\numpy\\lib\\function_base.py:2897: RuntimeWarning: invalid value encountered in divide\n",
      "  c /= stddev[:, None]\n",
      "F:\\programs\\anaconda3\\lib\\site-packages\\numpy\\lib\\function_base.py:2898: RuntimeWarning: invalid value encountered in divide\n",
      "  c /= stddev[None, :]\n",
      "C:\\Users\\Влада\\AppData\\Local\\Temp\\ipykernel_10040\\858570187.py:5: RuntimeWarning: invalid value encountered in divide\n",
      "  return np.dot(user_profile, songs_df) / (np.linalg.norm(user_profile) * np.linalg.norm(songs_df))\n",
      "F:\\programs\\anaconda3\\lib\\site-packages\\numpy\\lib\\function_base.py:2897: RuntimeWarning: invalid value encountered in divide\n",
      "  c /= stddev[:, None]\n",
      "F:\\programs\\anaconda3\\lib\\site-packages\\numpy\\lib\\function_base.py:2898: RuntimeWarning: invalid value encountered in divide\n",
      "  c /= stddev[None, :]\n",
      "C:\\Users\\Влада\\AppData\\Local\\Temp\\ipykernel_10040\\858570187.py:5: RuntimeWarning: invalid value encountered in divide\n",
      "  return np.dot(user_profile, songs_df) / (np.linalg.norm(user_profile) * np.linalg.norm(songs_df))\n",
      "F:\\programs\\anaconda3\\lib\\site-packages\\numpy\\lib\\function_base.py:2897: RuntimeWarning: invalid value encountered in divide\n",
      "  c /= stddev[:, None]\n",
      "F:\\programs\\anaconda3\\lib\\site-packages\\numpy\\lib\\function_base.py:2898: RuntimeWarning: invalid value encountered in divide\n",
      "  c /= stddev[None, :]\n",
      "C:\\Users\\Влада\\AppData\\Local\\Temp\\ipykernel_10040\\858570187.py:5: RuntimeWarning: invalid value encountered in divide\n",
      "  return np.dot(user_profile, songs_df) / (np.linalg.norm(user_profile) * np.linalg.norm(songs_df))\n",
      "F:\\programs\\anaconda3\\lib\\site-packages\\numpy\\lib\\function_base.py:2897: RuntimeWarning: invalid value encountered in divide\n",
      "  c /= stddev[:, None]\n",
      "F:\\programs\\anaconda3\\lib\\site-packages\\numpy\\lib\\function_base.py:2898: RuntimeWarning: invalid value encountered in divide\n",
      "  c /= stddev[None, :]\n"
     ]
    }
   ],
   "source": [
    "recommendations = {}\n",
    "for user in unique_users:\n",
    "    random_user = df_profiles[df_profiles.index == user]\n",
    "    if user not in recommendations:\n",
    "        recommendations[user] = {}\n",
    "    recommendations[user] = get_different_recommendations(random_user, \n",
    "                                                df_features, \n",
    "                                                features, \n",
    "                                                metrics=['cossine', 'pearson', 'manhattan', 'minkowski_3', 'minkowski_5', \n",
    "                                                         'minkowski_10', 'minkowski_100', 'euclidean'])"
   ]
  },
  {
   "cell_type": "code",
   "execution_count": 30,
   "metadata": {},
   "outputs": [],
   "source": [
    "metrics=['cossine', 'pearson', 'manhattan', 'minkowski_3', 'minkowski_5', 'minkowski_10', 'minkowski_100', 'euclidean']"
   ]
  },
  {
   "cell_type": "code",
   "execution_count": 31,
   "metadata": {},
   "outputs": [
    {
     "data": {
      "text/plain": [
       "20"
      ]
     },
     "execution_count": 31,
     "metadata": {},
     "output_type": "execute_result"
    }
   ],
   "source": [
    "len(recommendations)"
   ]
  },
  {
   "cell_type": "code",
   "execution_count": 34,
   "metadata": {},
   "outputs": [
    {
     "data": {
      "text/plain": [
       "dict_keys(['cossine', 'pearson', 'manhattan', 'minkowski_3', 'minkowski_5', 'minkowski_10', 'minkowski_100', 'euclidean'])"
      ]
     },
     "execution_count": 34,
     "metadata": {},
     "output_type": "execute_result"
    }
   ],
   "source": [
    "recommendations['5a969cb28cad14e1a1bcace7b22baa079a5384fc'].keys()"
   ]
  },
  {
   "cell_type": "markdown",
   "metadata": {
    "id": "eDmgI16CodaW"
   },
   "source": [
    "# **Вимірювання точності**"
   ]
  },
  {
   "cell_type": "code",
   "execution_count": 35,
   "metadata": {},
   "outputs": [],
   "source": [
    "from sklearn.metrics import mean_absolute_error, mean_squared_error, root_mean_squared_error"
   ]
  },
  {
   "cell_type": "code",
   "execution_count": 36,
   "metadata": {
    "id": "w86VM57hoh96"
   },
   "outputs": [],
   "source": [
    "def simmilarity(user_profile, list_of_recs, features):\n",
    "  recs = []\n",
    "  df = list_of_recs[features]\n",
    "  for col in df.columns:\n",
    "    recs.append(df[col].median())\n",
    "  return {\n",
    "      'mae': mean_absolute_error(y_true=user_profile.T.values, y_pred=recs),\n",
    "      'mse': mean_squared_error(y_true=user_profile.T.values, y_pred=recs),\n",
    "      'rmse': root_mean_squared_error(y_true=user_profile.T.values, y_pred=recs)\n",
    "  }"
   ]
  },
  {
   "cell_type": "code",
   "execution_count": 37,
   "metadata": {},
   "outputs": [
    {
     "data": {
      "text/plain": [
       "['cossine',\n",
       " 'pearson',\n",
       " 'manhattan',\n",
       " 'minkowski_3',\n",
       " 'minkowski_5',\n",
       " 'minkowski_10',\n",
       " 'minkowski_100',\n",
       " 'euclidean']"
      ]
     },
     "execution_count": 37,
     "metadata": {},
     "output_type": "execute_result"
    }
   ],
   "source": [
    "metrics"
   ]
  },
  {
   "cell_type": "code",
   "execution_count": 38,
   "metadata": {},
   "outputs": [],
   "source": [
    "def get_error_measures(recommendations, random_user_id):\n",
    "    random_user = df_profiles[df_profiles.index == random_user_id]\n",
    "    error_measures = {}\n",
    "    for rec in recommendations:\n",
    "      if rec not in error_measures:\n",
    "        error_measures[rec] = {}\n",
    "      error_measures[rec] = (simmilarity(random_user, pd.concat([recommendations[rec],df_features], axis=1).sort_values(by=0, ascending=(rec not in metrics[0:2])).iloc[:20], features))\n",
    "    return error_measures"
   ]
  },
  {
   "cell_type": "code",
   "execution_count": 39,
   "metadata": {},
   "outputs": [],
   "source": [
    "error_measures = {}\n",
    "for user in recommendations:\n",
    "    if user not in error_measures:\n",
    "        error_measures[user] = {}\n",
    "    error_measures[user] = get_error_measures(recommendations[user], user)"
   ]
  },
  {
   "cell_type": "code",
   "execution_count": 40,
   "metadata": {},
   "outputs": [
    {
     "data": {
      "text/plain": [
       "20"
      ]
     },
     "execution_count": 40,
     "metadata": {},
     "output_type": "execute_result"
    }
   ],
   "source": [
    "len(error_measures)"
   ]
  },
  {
   "cell_type": "code",
   "execution_count": 42,
   "metadata": {},
   "outputs": [
    {
     "data": {
      "text/plain": [
       "dict_keys(['cossine', 'pearson', 'manhattan', 'minkowski_3', 'minkowski_5', 'minkowski_10', 'minkowski_100', 'euclidean'])"
      ]
     },
     "execution_count": 42,
     "metadata": {},
     "output_type": "execute_result"
    }
   ],
   "source": [
    "recommendations['5a969cb28cad14e1a1bcace7b22baa079a5384fc'].keys()"
   ]
  },
  {
   "cell_type": "code",
   "execution_count": 43,
   "metadata": {},
   "outputs": [],
   "source": [
    "def get_min_metric(error_measures):\n",
    "    min_metrics = {}\n",
    "    for metric in ['mae', 'mse', 'rmse']:\n",
    "        best = min(error_measures.items(), key=lambda item: item[1][metric])\n",
    "        min_metrics[metric] = best[0]\n",
    "    return min_metrics"
   ]
  },
  {
   "cell_type": "code",
   "execution_count": 44,
   "metadata": {
    "colab": {
     "base_uri": "https://localhost:8080/"
    },
    "executionInfo": {
     "elapsed": 33,
     "status": "ok",
     "timestamp": 1744273440001,
     "user": {
      "displayName": "vladyslava",
      "userId": "10704270163806974636"
     },
     "user_tz": -180
    },
    "id": "GzcNX9d3oiHm",
    "outputId": "d4971ec4-67bf-4c6f-b0f8-898e78e2cf3e"
   },
   "outputs": [],
   "source": [
    "min_metrics = {}\n",
    "for user in recommendations:\n",
    "    if user not in min_metrics:\n",
    "        min_metrics[user] = {}\n",
    "    min_metrics[user] = get_min_metric(error_measures[user])"
   ]
  },
  {
   "cell_type": "code",
   "execution_count": 45,
   "metadata": {},
   "outputs": [
    {
     "data": {
      "text/html": [
       "<div>\n",
       "<style scoped>\n",
       "    .dataframe tbody tr th:only-of-type {\n",
       "        vertical-align: middle;\n",
       "    }\n",
       "\n",
       "    .dataframe tbody tr th {\n",
       "        vertical-align: top;\n",
       "    }\n",
       "\n",
       "    .dataframe thead th {\n",
       "        text-align: right;\n",
       "    }\n",
       "</style>\n",
       "<table border=\"1\" class=\"dataframe\">\n",
       "  <thead>\n",
       "    <tr style=\"text-align: right;\">\n",
       "      <th></th>\n",
       "      <th>mae</th>\n",
       "      <th>mse</th>\n",
       "      <th>rmse</th>\n",
       "    </tr>\n",
       "  </thead>\n",
       "  <tbody>\n",
       "    <tr>\n",
       "      <th>02471b044e6bdff7c01e1ea2791214268ba5aaf4</th>\n",
       "      <td>manhattan</td>\n",
       "      <td>manhattan</td>\n",
       "      <td>manhattan</td>\n",
       "    </tr>\n",
       "  </tbody>\n",
       "</table>\n",
       "</div>"
      ],
      "text/plain": [
       "                                                mae        mse       rmse\n",
       "02471b044e6bdff7c01e1ea2791214268ba5aaf4  manhattan  manhattan  manhattan"
      ]
     },
     "execution_count": 45,
     "metadata": {},
     "output_type": "execute_result"
    }
   ],
   "source": [
    "min_metrics_df = pd.DataFrame.from_dict(min_metrics, orient='index')\n",
    "min_metrics_df.sample()"
   ]
  },
  {
   "cell_type": "code",
   "execution_count": 46,
   "metadata": {},
   "outputs": [
    {
     "data": {
      "text/plain": [
       "(array(['manhattan', 'euclidean', 'minkowski_3', 'minkowski_5'],\n",
       "       dtype=object),\n",
       " array(['manhattan', 'euclidean', 'minkowski_3', 'minkowski_5'],\n",
       "       dtype=object),\n",
       " array(['manhattan', 'euclidean', 'minkowski_3', 'minkowski_5'],\n",
       "       dtype=object))"
      ]
     },
     "execution_count": 46,
     "metadata": {},
     "output_type": "execute_result"
    }
   ],
   "source": [
    "min_metrics_df['mae'].unique(), min_metrics_df['mse'].unique(), min_metrics_df['rmse'].unique()"
   ]
  },
  {
   "cell_type": "code",
   "execution_count": 47,
   "metadata": {},
   "outputs": [
    {
     "data": {
      "image/png": "[encoded data removed]",
      "text/plain": [
       "<Figure size 1500x500 with 1 Axes>"
      ]
     },
     "metadata": {},
     "output_type": "display_data"
    }
   ],
   "source": [
    "plt.figure(figsize=(15, 5))\n",
    "plt.bar(x=min_metrics_df['mae'].value_counts().index.tolist(), height=min_metrics_df['mae'].value_counts(), color='maroon', edgecolor='black')\n",
    "plt.title('best MAE')\n",
    "plt.xlabel('Metric Name')\n",
    "plt.ylabel('Number of results')\n",
    "plt.tight_layout()\n",
    "plt.show()"
   ]
  },
  {
   "cell_type": "code",
   "execution_count": 48,
   "metadata": {},
   "outputs": [
    {
     "data": {
      "image/png": "[encoded data removed]",
      "text/plain": [
       "<Figure size 1500x500 with 1 Axes>"
      ]
     },
     "metadata": {},
     "output_type": "display_data"
    }
   ],
   "source": [
    "plt.figure(figsize=(15, 5))\n",
    "plt.bar(x=min_metrics_df['mse'].value_counts().index.tolist(), height=min_metrics_df['mse'].value_counts(), color='maroon', edgecolor='black')\n",
    "plt.title('best MSE')\n",
    "plt.xlabel('Metric Name')\n",
    "plt.ylabel('Number of results')\n",
    "plt.tight_layout()\n",
    "plt.show()"
   ]
  },
  {
   "cell_type": "code",
   "execution_count": 49,
   "metadata": {},
   "outputs": [
    {
     "data": {
      "image/png": "[encoded data removed]",
      "text/plain": [
       "<Figure size 1500x500 with 1 Axes>"
      ]
     },
     "metadata": {},
     "output_type": "display_data"
    }
   ],
   "source": [
    "plt.figure(figsize=(15, 5))\n",
    "plt.bar(x=min_metrics_df['rmse'].value_counts().index.tolist(), height=min_metrics_df['rmse'].value_counts(), color='maroon', edgecolor='black')\n",
    "plt.title('best RMSE')\n",
    "plt.xlabel('Metric Name')\n",
    "plt.ylabel('Number of results')\n",
    "plt.tight_layout()\n",
    "plt.show()"
   ]
  },
  {
   "cell_type": "markdown",
   "metadata": {},
   "source": [
    "У результаті експерименту, проведеного на 100 різних користувачах було визначено, що мангеттенська відстань дає найбільш наближені результати до профілю користувача, тому в подальшому буде використано її."
   ]
  }
 ],
 "metadata": {
  "colab": {
   "authorship_tag": "ABX9TyOByG1kn8Cnt937+6kSv6EE",
   "mount_file_id": "1VRg3-tzksxf0eWZQW-ultXNJ75LpJ9G7",
   "provenance": [
    {
     "file_id": "1VRg3-tzksxf0eWZQW-ultXNJ75LpJ9G7",
     "timestamp": 1744308720146
    },
    {
     "file_id": "1LGvE9sbkDAQ4xV7kHCCPEn6d0bnD2rrt",
     "timestamp": 1744221760159
    },
    {
     "file_id": "1ojE39VWL8rXtUxwlw983J08ZLTVXx8UX",
     "timestamp": 1744095943038
    },
    {
     "file_id": "1x4-D6SSCSCrApdtC4GNiYV0G3MrpuW-m",
     "timestamp": 1744044749140
    },
    {
     "file_id": "1DYUgv9q2Y2LKmPtUO0Jk4oETsCAYy82k",
     "timestamp": 1744043941955
    }
   ]
  },
  "kernelspec": {
   "display_name": "Python 3 (ipykernel)",
   "language": "python",
   "name": "python3"
  },
  "language_info": {
   "codemirror_mode": {
    "name": "ipython",
    "version": 3
   },
   "file_extension": ".py",
   "mimetype": "text/x-python",
   "name": "python",
   "nbconvert_exporter": "python",
   "pygments_lexer": "ipython3",
   "version": "3.10.16"
  }
 },
 "nbformat": 4,
 "nbformat_minor": 4
}
